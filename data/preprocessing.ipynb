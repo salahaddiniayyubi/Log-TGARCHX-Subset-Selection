{
 "cells": [
  {
   "cell_type": "code",
   "execution_count": 1,
   "metadata": {},
   "outputs": [],
   "source": [
    "import pandas as pd\n",
    "import numpy as np\n",
    "import matplotlib.pyplot as plt\n",
    "import arch\n",
    "import pickle\n",
    "from sklearn.preprocessing import StandardScaler\n",
    "from sklearn.pipeline import Pipeline\n",
    "from sklearn.model_selection import train_test_split, GridSearchCV\n",
    "from sklearn.linear_model import Lasso\n",
    "from sklearn.model_selection import TimeSeriesSplit\n",
    "from sklearn.ensemble import RandomForestRegressor\n",
    "\n",
    "# Trying to replicate the results using simple OLS:\n",
    "import statsmodels.api as sm\n",
    "from statsmodels.tsa.api import acf, graphics, pacf\n",
    "from statsmodels.tsa.ar_model import AutoReg, ar_select_order\n",
    "from statsmodels.tsa.arima.model import ARIMA\n",
    "from statsmodels.tsa.statespace.sarimax import SARIMAX\n",
    "from statsmodels.tools import add_constant\n",
    "from datetime import timedelta"
   ]
  },
  {
   "cell_type": "markdown",
   "metadata": {},
   "source": [
    "# Data"
   ]
  },
  {
   "cell_type": "markdown",
   "metadata": {},
   "source": [
    "* Import the data;\n",
    "* Check the patterns in the dataset:\n",
    "    * Is there NaN, $\\infty$ or negative values?\n",
    "    * If there are, then why?\n",
    "* Divide the data into 2 parts:\n",
    "    * Regressand (y_init);\n",
    "    * Regressors Matrix (X_init).\n",
    "* Create a copy of X_init and y_init, call them X and y, respectively;\n",
    "    * Always Operate on the copies to keep the originals safe and;\n",
    "    * To make sure that re-running the code will work.\n",
    "* Check Stationarity of explanatory variables:\n",
    "    * Import ADF library;\n",
    "    * If non-stationary and positive $\\rightarrow$ take the log difference and rename it with pre-fix \"dl\";\n",
    "    * If non-stationary and non-positive $\\rightarrow$ take the first difference and rename it with pre-fix \"d\";\n",
    "    * else:\n",
    "        * Pass.\n",
    "* Confirm stationarity of the transformed explanatory variables:\n",
    "    * Use KPSS:\n",
    "    * Take the first difference if not stationary;\n",
    "    * Use KPSS on the transformed dataset and print non-stationary if any.\n",
    "* Drop NaN values and even out the indices for both y and X."
   ]
  },
  {
   "cell_type": "code",
   "execution_count": 2,
   "metadata": {},
   "outputs": [
    {
     "name": "stdout",
     "output_type": "stream",
     "text": [
      "NaN values:0\n",
      "Infinity values: 0\n",
      "Index(['CL=F', 'returns'], dtype='object')\n",
      "It is normal to have negative returns\n",
      "News why oil prices went negative in 2020:\n"
     ]
    },
    {
     "data": {
      "text/html": [
       "<a href=\"https://google.at\">Follow this link</a>"
      ],
      "text/plain": [
       "<IPython.core.display.HTML object>"
      ]
     },
     "metadata": {},
     "output_type": "display_data"
    }
   ],
   "source": [
    "from IPython.display import display, HTML\n",
    "\n",
    "# Import the data:\n",
    "data = pd.read_excel(\"./data_full.xlsx\")\n",
    "data.rename({\"Unnamed: 0\":\"Date\"}, axis = 1, inplace=True)\n",
    "data = data.set_index(\"Date\")\n",
    "idx = pd.DatetimeIndex(data.index.values, freq = data.index.inferred_freq)\n",
    "data = data.set_index(idx)\n",
    "\n",
    "# Check the patterns in the dataset:\n",
    "    # Is there NaN, $\\infty$ or negative values?\n",
    "print(f'NaN values:{data.isna().values.sum()}')\n",
    "print(f'Infinity values: {np.isinf(data).values.sum()}')\n",
    "print(data.columns[((data<0).sum()>0)])\n",
    "\n",
    "    #  If there are, then why?\n",
    "print('It is normal to have negative returns')\n",
    "print(\"News why oil prices went negative in 2020:\")\n",
    "display(HTML(\"\"\"<a href=\"https://google.at\">Follow this link</a>\"\"\"))"
   ]
  },
  {
   "cell_type": "code",
   "execution_count": 3,
   "metadata": {},
   "outputs": [],
   "source": [
    "from sklearn.preprocessing import StandardScaler, MinMaxScaler"
   ]
  },
  {
   "cell_type": "code",
   "execution_count": 4,
   "metadata": {},
   "outputs": [],
   "source": [
    "# Divide the data into 2 parts:\n",
    "    ## Regressand (y_init):\n",
    "y_init = data[[\"returns\"]]\n",
    "    ## Regressors Matrix (X_init):\n",
    "X_init = data.drop(columns = [\"returns\", \"rv_d\", \"rv_w\", \"rv_m\"])\n",
    "\n",
    "X_init_cop = pd.DataFrame(MinMaxScaler().\\\n",
    "    fit_transform(X_init), columns = X_init.columns, index = X_init.index)"
   ]
  },
  {
   "cell_type": "code",
   "execution_count": 5,
   "metadata": {},
   "outputs": [],
   "source": [
    "# Create a copy of X_init and y_init, call them X and y, respectively;\n",
    "    ## Always Operate on the copies to keep the originals safe and;\n",
    "    ## To make sure that re-running the code will work.\n",
    "X = X_init.copy()\n",
    "y = y_init.copy()\n",
    "\n",
    "# Check Stationarity of explanatory variables:\n",
    "    ## Import ADF library:\n",
    "    ## If non-stationary and positive ---> take the log difference and rename with pre-fix dl;\n",
    "    ## If non-stationary and negative $\\rightarrow$ take the first difference and rename it with pre-fix \"d\";\n",
    "    ## else:\n",
    "        ### pass.\n",
    "from arch.unitroot import ADF\n",
    "for i in X_init.columns:\n",
    "    \n",
    "    if ADF((X_init_cop[i])).pvalue>0.05 and i not in data.columns[((data<0).sum()>0)].to_list():\n",
    "        X[f'dl_{i}'] = np.log(X[i]/X[i].shift(1))\n",
    "        X.drop(columns = [i], inplace = True)\n",
    "    else:\n",
    "        if ADF(X_init_cop[i]).pvalue>0.05 and i in data.columns[((data<0).sum()>0)].to_list():\n",
    "            X[f'd_{i}'] = X[i]-X[i].shift(1)\n",
    "            X.drop(columns = [i], inplace = True)\n",
    "        else:\n",
    "            pass\n",
    "# X.columns"
   ]
  },
  {
   "cell_type": "code",
   "execution_count": 6,
   "metadata": {},
   "outputs": [],
   "source": [
    "# Confirm stationarity of the transformed explanatory variables:\n",
    "# Use KPSS:\n",
    "# Take the first difference if not stationary;\n",
    "# Use KPSS on the transformed dataset.\n",
    "from arch.unitroot import KPSS\n",
    "for i in X.columns:\n",
    "    try:\n",
    "        pval = KPSS(X[i]).pvalue\n",
    "    except:\n",
    "        pval = KPSS(X[i], lags = 1).pvalue\n",
    "    if pval < 0.05:\n",
    "        X[f'd_{i}'] = X[i]-X[i].shift(1)\n",
    "        X.drop(columns = [i], inplace = True)\n",
    "\n",
    "for i in X.columns:\n",
    "    try:\n",
    "        pval = KPSS(X[i]).pvalue\n",
    "    except:\n",
    "        pval = KPSS(X[i], lags = 1).pvalue\n",
    "    if pval < 0.05:\n",
    "        print(i)\n",
    "# X.columns"
   ]
  },
  {
   "cell_type": "code",
   "execution_count": 7,
   "metadata": {},
   "outputs": [
    {
     "name": "stdout",
     "output_type": "stream",
     "text": [
      "0\n",
      "0\n"
     ]
    }
   ],
   "source": [
    "# Drop NaN values and even out the indices for both y and X:\n",
    "X = X.dropna()\n",
    "y = y.loc[X.index]\n",
    "print(X.isna().values.sum())\n",
    "print(y.isna().values.sum())\n",
    "# X = pd.DataFrame(StandardScaler().fit_transform(X), columns=X.columns, index=X.index)"
   ]
  },
  {
   "cell_type": "code",
   "execution_count": 8,
   "metadata": {},
   "outputs": [],
   "source": [
    "data_stationary = pd.concat([y, X], axis = 1)\n",
    "data_stationary['rv_d'] = data.loc[X.index]['rv_d']\n",
    "data_stationary['rv_m'] = data.loc[X.index][\"rv_m\"]\n",
    "data_stationary[\"rv_w\"] = data.loc[X.index][\"rv_w\"]\n",
    "data_stationary.to_csv(\"data_stationary.csv\")"
   ]
  },
  {
   "cell_type": "code",
   "execution_count": 9,
   "metadata": {},
   "outputs": [
    {
     "data": {
      "text/plain": [
       "0"
      ]
     },
     "execution_count": 9,
     "metadata": {},
     "output_type": "execute_result"
    }
   ],
   "source": [
    "np.isinf(data_stationary).sum().sum()"
   ]
  },
  {
   "cell_type": "code",
   "execution_count": 10,
   "metadata": {},
   "outputs": [
    {
     "data": {
      "text/plain": [
       "returns        4.997432e-03\n",
       "TRFUS          1.244410e+06\n",
       "dl_AVBLS       2.022214e-04\n",
       "dl_BLCHS       6.271717e-04\n",
       "dl_CPTRA      -5.343820e-04\n",
       "dl_DIFF        1.747508e-03\n",
       "dl_ETRVU       2.963655e-04\n",
       "dl_HRATE       1.377054e-03\n",
       "dl_MIREV      -7.889167e-04\n",
       "dl_MKPRU       4.304207e-05\n",
       "dl_MKTCP       1.268907e-04\n",
       "dl_MWNTD      -1.026064e-04\n",
       "dl_MWNUS       8.432564e-04\n",
       "dl_MWTRV       3.957391e-04\n",
       "dl_NADDU      -2.004177e-04\n",
       "dl_NTRAN      -2.735811e-04\n",
       "dl_NTRAT       5.856124e-04\n",
       "dl_NTRBL       4.424806e-05\n",
       "dl_NTREP      -2.470000e-04\n",
       "dl_TOTBC       7.897464e-05\n",
       "dl_TOUTV       8.282527e-04\n",
       "dl_FFER        6.502313e-05\n",
       "dl_BTC=F       4.218762e-05\n",
       "d_CL=F         3.191230e-02\n",
       "dl_CNYUSD=X   -8.093881e-06\n",
       "dl_NDAQ        4.467480e-04\n",
       "dl_SPY         2.358402e-04\n",
       "dl_^DJI        1.138575e-04\n",
       "dl_tweet       1.865472e-04\n",
       "d_ATRCT        9.744214e-04\n",
       "d_CPTRV       -5.713371e-04\n",
       "d_ETRAV        7.545745e+01\n",
       "d_TRFEE       -3.442848e-01\n",
       "d_TRVOU       -1.018302e+06\n",
       "d_XRP-USD     -2.783349e-04\n",
       "d_^GVZ         6.303289e-03\n",
       "d_^VIX         1.315469e-02\n",
       "d_GPRD         3.124210e-02\n",
       "d_CNEPU        6.314659e-02\n",
       "d_gtrends     -1.101139e-01\n",
       "rv_d           2.143772e+01\n",
       "rv_m           2.206167e+01\n",
       "rv_w           2.143616e+01\n",
       "dtype: float64"
      ]
     },
     "execution_count": 10,
     "metadata": {},
     "output_type": "execute_result"
    }
   ],
   "source": [
    "np.mean(data_stationary)"
   ]
  }
 ],
 "metadata": {
  "kernelspec": {
   "display_name": "dd",
   "language": "python",
   "name": "dd"
  },
  "language_info": {
   "codemirror_mode": {
    "name": "ipython",
    "version": 3
   },
   "file_extension": ".py",
   "mimetype": "text/x-python",
   "name": "python",
   "nbconvert_exporter": "python",
   "pygments_lexer": "ipython3",
   "version": "3.7.16"
  },
  "orig_nbformat": 4,
  "vscode": {
   "interpreter": {
    "hash": "edfc2c65b6ad8be0b1c86e108804c9dd97fb937a8ba289b931553fa8dcc5616d"
   }
  }
 },
 "nbformat": 4,
 "nbformat_minor": 2
}
